{
 "cells": [
  {
   "cell_type": "markdown",
   "metadata": {},
   "source": [
    "# Solving Semidefinite Programs (SDPs) in Python"
   ]
  },
  {
   "cell_type": "markdown",
   "metadata": {},
   "source": [
    "In this notebook, we will be looking at how one may specify and numerically solve SDPs in Python. \n",
    "\n",
    "You may already be aware of the CVX software package for MATLAB. While this software is powerful and useful for solving a wide variety of SDPs, it requires a MATLAB license which can be cost prohibitive. \n",
    "\n",
    "The `cvxpy` module in Python is an open-source option for solving convex optimization problems. The way in which one specifies an SDP in Python can be a bit awkward if you have not seen it before. In this notebook, we will cover how to specify and solve SDPs using this module. "
   ]
  },
  {
   "cell_type": "markdown",
   "metadata": {},
   "source": [
    "## Semidefinite programming\n",
    "\n",
    "- Generalization of linear programming.\n",
    "- Powerful tool with many applications in quantum information.\n",
    "- SDPs are efficiently solvable in (polynomial time).\n",
    "- Software packages for solving SDPs exist (`cvxpy`).\n",
    "\n",
    "## The \"standard form\" for SDPs"
   ]
  },
  {
   "cell_type": "markdown",
   "metadata": {},
   "source": [
    "$$\n",
    "            \\begin{equation}\n",
    "                \\begin{aligned}\n",
    "                    \\underline{\\text{Primal problem:}} \\quad & \\\\\n",
    "                    \\text{maximize:} \\quad & \\langle A, X \\rangle \\\\\n",
    "                    \\text{subject to:} \\quad & \\Phi(X) = B, \\\\\n",
    "                                       \\quad & X \\in \\text{Pos}(\\mathcal{X}).\n",
    "                \\end{aligned}\n",
    "            \\end{equation}\n",
    "$$\n",
    "$$\n",
    "            \\begin{equation}\n",
    "                \\begin{aligned}\n",
    "                    \\underline{\\text{Dual problem:}} \\quad & \\\\\n",
    "                    \\text{minimize:} \\quad & \\langle B, Y \\rangle \\\\\n",
    "                    \\text{subject to:} \\quad & \\Phi^*(Y) \\geq A, \\\\\n",
    "                                       \\quad & Y \\in \\text{Herm}(\\mathcal{Y}).\n",
    "                \\end{aligned}\n",
    "            \\end{equation}\n",
    "$$"
   ]
  },
  {
   "cell_type": "markdown",
   "metadata": {},
   "source": [
    "## Installing the `cvxpy` and `numpy` modules"
   ]
  },
  {
   "cell_type": "code",
   "execution_count": null,
   "metadata": {},
   "outputs": [],
   "source": [
    "pip install cvxpy"
   ]
  },
  {
   "cell_type": "code",
   "execution_count": null,
   "metadata": {},
   "outputs": [],
   "source": [
    "pip install numpy"
   ]
  },
  {
   "cell_type": "markdown",
   "metadata": {},
   "source": [
    "# Simple examples"
   ]
  },
  {
   "cell_type": "markdown",
   "metadata": {},
   "source": [
    "Let's take a look at a simple SDP to see how we can encode it using Python and `cvxpy`.\n",
    "\n",
    "$$\n",
    "            \\begin{equation}\n",
    "                \\begin{aligned}\n",
    "                    \\underline{\\text{Primal problem:}} \\quad & \\\\\n",
    "                    \\text{maximize:} \\quad & \\langle \\mathbb{I}_4, X \\rangle \\\\\n",
    "                    \\text{subject to:} \\quad & X = \\mathbb{I}_4, \\\\\n",
    "                                       \\quad & X \\in \\text{Pos}(\\mathcal{X}).\n",
    "                \\end{aligned}\n",
    "            \\end{equation}\n",
    "$$"
   ]
  },
  {
   "cell_type": "code",
   "execution_count": 19,
   "metadata": {},
   "outputs": [
    {
     "name": "stdout",
     "output_type": "stream",
     "text": [
      "3.9999999999999996\n",
      "[[1. 0. 0. 0.]\n",
      " [0. 1. 0. 0.]\n",
      " [0. 0. 1. 0.]\n",
      " [0. 0. 0. 1.]]\n"
     ]
    }
   ],
   "source": [
    "import cvxpy\n",
    "import numpy as np\n",
    "\n",
    "# Declare a 4x4 variable for our SDP.\n",
    "x_var = cvxpy.Variable((4, 4))\n",
    "\n",
    "# We can specify the constraints for our SDP in a Python list.\n",
    "constraints = []\n",
    "\n",
    "# We can write the inner product:\n",
    "#    <A, X> == Tr(A^*, X)\n",
    "objective = cvxpy.Maximize(cvxpy.trace(x_var.H @ np.identity(4)))\n",
    "constraints.append(x_var == np.identity(4))\n",
    "constraints.append(x_var >> 0)\n",
    "\n",
    "# Feed in the objective and constraints to the solver.\n",
    "problem = cvxpy.Problem(objective, constraints)\n",
    "val = problem.solve()\n",
    "\n",
    "# Print out the optimal value along with the \n",
    "print(val)\n",
    "print(x_var.value)"
   ]
  },
  {
   "cell_type": "markdown",
   "metadata": {},
   "source": [
    "# Computing the fidelity function"
   ]
  },
  {
   "cell_type": "markdown",
   "metadata": {},
   "source": [
    "Problem: Calculate the fidelity of two quantum states $\\rho$ and $\\sigma$ defined as $F(\\rho, \\sigma) = ||\\sqrt{\\rho}\\sqrt{\\sigma}||_1$."
   ]
  },
  {
   "cell_type": "markdown",
   "metadata": {},
   "source": [
    "$$\n",
    "            \\begin{equation}\n",
    "                \\begin{aligned}\n",
    "                    \\underline{\\text{Primal problem:}} \\quad & \\\\\n",
    "                    \\text{maximize:} \\quad & \\frac{1}{2} \\text{Tr}(X) + \\frac{1}{2} \\text{Tr}(X^*) \\\\\n",
    "                    \\text{subject to:} \\quad & \\begin{pmatrix}\n",
    "                                                   \\rho & X \\\\\n",
    "                                                   X^* & \\sigma\n",
    "                                               \\end{pmatrix} \\geq 0\n",
    "                \\end{aligned}\n",
    "            \\end{equation}\n",
    "$$"
   ]
  },
  {
   "cell_type": "code",
   "execution_count": null,
   "metadata": {},
   "outputs": [],
   "source": [
    "        z_var = cvxpy.Variable(rho.shape, complex=True)\n",
    "        objective = cvxpy.Maximize(cvxpy.real(cvxpy.trace(z_var + z_var.H)))\n",
    "        constraints = [cvxpy.bmat([[rho, z_var], [z_var.H, sigma]]) >> 0]\n",
    "        problem = cvxpy.Problem(objective, constraints)\n",
    "\n",
    "        return 1 / 2 * problem.solve()"
   ]
  }
 ],
 "metadata": {
  "kernelspec": {
   "display_name": "Python 3",
   "language": "python",
   "name": "python3"
  },
  "language_info": {
   "codemirror_mode": {
    "name": "ipython",
    "version": 3
   },
   "file_extension": ".py",
   "mimetype": "text/x-python",
   "name": "python",
   "nbconvert_exporter": "python",
   "pygments_lexer": "ipython3",
   "version": "3.8.4"
  }
 },
 "nbformat": 4,
 "nbformat_minor": 2
}
