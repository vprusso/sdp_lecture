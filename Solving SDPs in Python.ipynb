{
 "cells": [
  {
   "cell_type": "markdown",
   "metadata": {},
   "source": [
    "# Solving Semidefinite Programs (SDPs) in Python"
   ]
  },
  {
   "cell_type": "markdown",
   "metadata": {},
   "source": [
    "In this notebook, we will be looking at how one may specify and numerically solve SDPs in Python. \n",
    "\n",
    "You may already be aware of the [CVX software package](http://cvxr.com/cvx/) for MATLAB. While this software is powerful and useful for solving a wide variety of SDPs, it requires a MATLAB license which can be cost prohibitive. \n",
    "\n",
    "The [cvxpy module](https://www.cvxpy.org/index.html) in Python is an open-source option for solving convex optimization problems. The way in which one specifies an SDP in Python can be a bit awkward if you have not seen it before. In this notebook, we will cover how to specify and solve SDPs using this module. "
   ]
  },
  {
   "cell_type": "markdown",
   "metadata": {},
   "source": [
    "## Semidefinite programming\n",
    "\n",
    "- Generalization of linear programming.\n",
    "- Powerful tool with many applications in quantum information.\n",
    "- SDPs are efficiently solvable in (polynomial time).\n",
    "- Software packages for solving SDPs exist (`cvxpy`).\n",
    "\n",
    "## The \"standard form\" for SDPs\n",
    "\n",
    "In the computational physics course, the following form of how one may specify an SDP should look familiar to you:"
   ]
  },
  {
   "cell_type": "markdown",
   "metadata": {},
   "source": [
    "$$\n",
    "\\begin{equation*}\n",
    "    \\begin{aligned}\n",
    "        \\underline{\\text{Primal problem:}} \\quad & \\\\\n",
    "        \\text{maximize:} \\quad & \\langle A, X \\rangle \\\\\n",
    "        \\text{subject to:} \\quad & \\Phi(X) = B, \\\\\n",
    "        \\quad & X \\in \\text{Pos}(\\mathcal{X}).\n",
    "    \\end{aligned}\n",
    "\\end{equation*}\n",
    "$$\n",
    "$$\n",
    "\\begin{equation*}\n",
    "    \\begin{aligned}\n",
    "        \\underline{\\text{Dual problem:}} \\quad & \\\\\n",
    "        \\text{minimize:} \\quad & \\langle B, Y \\rangle \\\\\n",
    "        \\text{subject to:} \\quad & \\Phi^*(Y) \\geq A, \\\\\n",
    "                           \\quad & Y \\in \\text{Herm}(\\mathcal{Y}).\n",
    "     \\end{aligned}\n",
    "\\end{equation*}\n",
    "$$"
   ]
  },
  {
   "cell_type": "markdown",
   "metadata": {},
   "source": [
    "# Solving SDPs in Python"
   ]
  },
  {
   "cell_type": "markdown",
   "metadata": {},
   "source": [
    "In order to solve SDPs in Python, we will assume you have Python 3.6+ installed on your machine along with [pip](https://www.python.org/downloads/)--Python's package manager. It's a fairly safe bet that you already have some version of Python installed, but ensure you have the proper version. You can download Python [here](https://www.python.org/downloads/).\n",
    "\n",
    "We will also require the use of two Python modules--`cvxpy` and `numpy`. The `cvxpy` module is what we will use to specify and numerically solve our SDPs. The `numpy` module will come in handy when we want to define objects like matrices and vectros. We will shortly cover how to install the `cvxpy` and `numpy` modules."
   ]
  },
  {
   "cell_type": "markdown",
   "metadata": {},
   "source": [
    "## The `cvxpy` module"
   ]
  },
  {
   "cell_type": "markdown",
   "metadata": {},
   "source": [
    "As specified on the [cvxpy website](https://www.cvxpy.org/index.html):\n",
    "\n",
    "> The `cvxpy` module is a Python-embedded modeling language for convex optimization problems. It allows you to express your problem in a natural way that follows the math, rather than in the restrictive standard form required by solvers.\n",
    "\n",
    "As `cvxpy` is a general framework for convex optimization (not just semidefinite programming) the documentation is quite sparse on how to use `cvxpy` to specify and solve an SDP. Here is [the one and only example](https://www.cvxpy.org/examples/basic/sdp.html) for how to specify an SDP using `cvxpy`.\n",
    "\n",
    "Furthermore, the example that does exist in the documentation is cast in the \"non-standard\" form--making the translation between paper and code a bit more difficult. "
   ]
  },
  {
   "cell_type": "markdown",
   "metadata": {},
   "source": [
    "## Installing the `cvxpy` and `numpy` modules"
   ]
  },
  {
   "cell_type": "markdown",
   "metadata": {},
   "source": [
    "Assuming you have Python 3.6+  and `pip` installed, you can run the following commands to install the `cvxpy` and `numpy` modules on your machine. "
   ]
  },
  {
   "cell_type": "code",
   "execution_count": null,
   "metadata": {},
   "outputs": [],
   "source": [
    "pip install cvxpy"
   ]
  },
  {
   "cell_type": "code",
   "execution_count": null,
   "metadata": {},
   "outputs": [],
   "source": [
    "pip install numpy"
   ]
  },
  {
   "cell_type": "markdown",
   "metadata": {},
   "source": [
    "As a sanity check, run the following two-line Python script to ensure to errors arise. If you see no output, both modules are successfully installed and ready to use."
   ]
  },
  {
   "cell_type": "code",
   "execution_count": 4,
   "metadata": {},
   "outputs": [],
   "source": [
    "import cvxpy\n",
    "import numpy"
   ]
  },
  {
   "cell_type": "markdown",
   "metadata": {},
   "source": [
    "# Solving simple SDPs"
   ]
  },
  {
   "cell_type": "markdown",
   "metadata": {},
   "source": [
    "Let's take a look at a simple SDP to see how we can encode it using Python and `cvxpy`.\n",
    "\n",
    "$$\n",
    "\\begin{equation*}\n",
    "    \\begin{aligned}\n",
    "        \\underline{\\text{Primal problem:}} \\quad & \\\\\n",
    "            \\text{maximize:} \\quad & \\langle \\mathbb{I}_4, X \\rangle \\\\\n",
    "            \\text{subject to:} \\quad & X = \\mathbb{I}_4, \\\\\n",
    "                               \\quad & X \\in \\text{Pos}(\\mathcal{X}).\n",
    "     \\end{aligned}\n",
    "\\end{equation*}\n",
    "$$"
   ]
  },
  {
   "cell_type": "markdown",
   "metadata": {},
   "source": [
    "We are going to take a look at this particular (trivial) SDP and see how we can translate the specification of it into a form that Python and `cvxpy` understands and can use.\n",
    "\n",
    "Let us begin by simply importing the necessary `numpy` and `cvxpy` packages into our script."
   ]
  },
  {
   "cell_type": "code",
   "execution_count": null,
   "metadata": {},
   "outputs": [],
   "source": [
    "import cvxpy\n",
    "import numpy as np"
   ]
  },
  {
   "cell_type": "markdown",
   "metadata": {},
   "source": [
    "Next, we want to define a variabe, $X$, that we will be optimizing over in our example SDP. The `cvxpy` module allows us to specify objects of type `Variable` which may be scalars, vectors, matrices, etc. In this case, we want to define a variable that is a $4$-by-$4$ matrix to match the dimension of $\\mathbb{I}_4$."
   ]
  },
  {
   "cell_type": "code",
   "execution_count": 23,
   "metadata": {},
   "outputs": [],
   "source": [
    "x_var = cvxpy.Variable((4, 4))"
   ]
  },
  {
   "cell_type": "markdown",
   "metadata": {},
   "source": [
    "So the variable `x_var` is an object of type `Variable` that we will be optimizing over in our SDP. Next, let's define the *objective function* of our SDP--that is, the bit that looks like $\\langle \\mathbb{I}_4, X \\rangle$. \n",
    "\n",
    "In our objective function, we are taking the maximum. There is a built-in method, `cvxpy.Maximum()` that we will pass what we wish to maximize into. In this case we can encoe this function as follows."
   ]
  },
  {
   "cell_type": "code",
   "execution_count": 24,
   "metadata": {},
   "outputs": [],
   "source": [
    "objective = cvxpy.Maximize(cvxpy.trace(x_var.H @ np.identity(4)))"
   ]
  },
  {
   "cell_type": "markdown",
   "metadata": {},
   "source": [
    "Note that we are writing the inner product in terms of the trace function, that is, you may recall that:\n",
    "\n",
    "$$\n",
    "\\langle \\mathbb{I}_4, X \\rangle \\equiv \\text{Tr}(X^* \\mathbb{I}_4))\n",
    "$$\n",
    "\n",
    "where $\\text{Tr}(\\cdot)$ is the trace function and where we denote $X^*$ as the complex conjugate of the matrix $X$.\n",
    "\n",
    "Also note that any `cvxpy` matrix variable has a built-in property--`.H` that corresponds to the complex conjugate of that particular `cvxpy` object.\n",
    "\n",
    "Another key thin to point out is how we are using the `@` operator instead of the `*` operator to denote multiplication. In more recent version of Python, it is preferred to denote scalar multiplication with the `*` operator and matrix multiplication with the `@` operator.\n",
    "\n",
    "Next, let's define the constraints of our SDP. The `cvxpy` module expects that we provide these inside of a Python list."
   ]
  },
  {
   "cell_type": "code",
   "execution_count": 9,
   "metadata": {},
   "outputs": [],
   "source": [
    "constraints = []"
   ]
  },
  {
   "cell_type": "markdown",
   "metadata": {},
   "source": [
    "We have two constraints that we need to ensure are enforced:\n",
    "\n",
    "1. $X = \\mathbb{I}_4$,\n",
    "2. $X \\in \\text{Pos}(\\mathcal{X})$.\n",
    "\n",
    "For the first constraint, we want to enforce that the variable `x_var` is equal to the 4-by-4 identity matrix. We can add that to our list of constraints like so."
   ]
  },
  {
   "cell_type": "code",
   "execution_count": 10,
   "metadata": {},
   "outputs": [],
   "source": [
    "constraints.append(x_var == np.identity(4))"
   ]
  },
  {
   "cell_type": "markdown",
   "metadata": {},
   "source": [
    "Note that the `np.identity(4)` code represents the 4-dimensional identity matrix. That is:"
   ]
  },
  {
   "cell_type": "code",
   "execution_count": 11,
   "metadata": {},
   "outputs": [
    {
     "data": {
      "text/plain": [
       "array([[1., 0., 0., 0.],\n",
       "       [0., 1., 0., 0.],\n",
       "       [0., 0., 1., 0.],\n",
       "       [0., 0., 0., 1.]])"
      ]
     },
     "execution_count": 11,
     "metadata": {},
     "output_type": "execute_result"
    }
   ],
   "source": [
    "np.identity(4)"
   ]
  },
  {
   "cell_type": "markdown",
   "metadata": {},
   "source": [
    "Note also that we are adding to our `constraints` list that we want to enforce that the `x_var` variable is equal to the identity matrix. \n",
    "\n",
    "Next, we want to enforce that `x_var` is positive semidefinite. We can add this constraint to our `constraints` list as:"
   ]
  },
  {
   "cell_type": "code",
   "execution_count": 12,
   "metadata": {},
   "outputs": [],
   "source": [
    "constraints.append(x_var >> 0)"
   ]
  },
  {
   "cell_type": "markdown",
   "metadata": {},
   "source": [
    "Now that we have all our constraints defined in our `constraints` list, we can pass both our `objective` and `constraints` objective to an instance of the `Problem` class in `cvxpy`. "
   ]
  },
  {
   "cell_type": "code",
   "execution_count": 13,
   "metadata": {},
   "outputs": [],
   "source": [
    "problem = cvxpy.Problem(objective, constraints)"
   ]
  },
  {
   "cell_type": "markdown",
   "metadata": {},
   "source": [
    "The `problem` object we return here is a `cvxpy` way of specifying our SDP. We can call the built-in method `solve` on any instance of a `Problem` object to get the corresponding optimal value of our SDP."
   ]
  },
  {
   "cell_type": "code",
   "execution_count": 16,
   "metadata": {},
   "outputs": [
    {
     "data": {
      "text/plain": [
       "4.0"
      ]
     },
     "execution_count": 16,
     "metadata": {},
     "output_type": "execute_result"
    }
   ],
   "source": [
    "val = problem.solve()\n",
    "val"
   ]
  },
  {
   "cell_type": "markdown",
   "metadata": {},
   "source": [
    "We see that the optimal value provided to us from our SDP is `4`, which is exactly what we expect. Furthermore, we can also see what the solver found to be the optimal value for the variable `X`. We can extract this by calling the `.value` method on our `x_var` variable."
   ]
  },
  {
   "cell_type": "code",
   "execution_count": 18,
   "metadata": {},
   "outputs": [
    {
     "data": {
      "text/plain": [
       "array([[1., 0., 0., 0.],\n",
       "       [0., 1., 0., 0.],\n",
       "       [0., 0., 1., 0.],\n",
       "       [0., 0., 0., 1.]])"
      ]
     },
     "execution_count": 18,
     "metadata": {},
     "output_type": "execute_result"
    }
   ],
   "source": [
    "x_var.value"
   ]
  },
  {
   "cell_type": "markdown",
   "metadata": {},
   "source": [
    "Again, no surprises here that the value of variable $X$ is simply the 4-by-4 identity matrix."
   ]
  },
  {
   "cell_type": "markdown",
   "metadata": {},
   "source": [
    "For completeness, we show the script in its entirety below:"
   ]
  },
  {
   "cell_type": "code",
   "execution_count": 40,
   "metadata": {},
   "outputs": [
    {
     "name": "stdout",
     "output_type": "stream",
     "text": [
      "3.9999999999999996\n",
      "[[1. 0. 0. 0.]\n",
      " [0. 1. 0. 0.]\n",
      " [0. 0. 1. 0.]\n",
      " [0. 0. 0. 1.]]\n"
     ]
    }
   ],
   "source": [
    "import cvxpy\n",
    "import numpy as np\n",
    "\n",
    "# Declare a 4x4 variable for our SDP.\n",
    "x_var = cvxpy.Variable((4, 4))\n",
    "\n",
    "# We can specify the constraints for our SDP in a Python list.\n",
    "constraints = []\n",
    "\n",
    "# We can write the inner product:\n",
    "#    <A, X> <-> Tr(A^*, X)\n",
    "objective = cvxpy.Maximize(cvxpy.trace(x_var.H @ np.identity(4)))\n",
    "constraints.append(x_var == np.identity(4))\n",
    "constraints.append(x_var >> 0)\n",
    "\n",
    "# Feed in the objective and constraints to the solver.\n",
    "problem = cvxpy.Problem(objective, constraints)\n",
    "val = problem.solve()\n",
    "\n",
    "# Print out the optimal value along with the optimal solution.\n",
    "\n",
    "# The optimal value of this SDP is equal to \"4\" (the dimension) of the identity matrix.\n",
    "print(val)\n",
    "\n",
    "# Trivially, the variable that optimally satisfies this SDP is the 4x4 identity matrix.\n",
    "print(x_var.value)"
   ]
  },
  {
   "cell_type": "markdown",
   "metadata": {},
   "source": [
    "We can alter the SDP slightly so that no feasible solution exists--that is that the optimal value is $-\\infty$. That is, we say that this SDP is **infeasible**.\n",
    "\n",
    "$$\n",
    "            \\begin{equation*}\n",
    "                \\begin{aligned}\n",
    "                    \\underline{\\text{Primal problem:}} \\quad & \\\\\n",
    "                    \\text{maximize:} \\quad & \\langle \\mathbb{I}_4, X \\rangle \\\\\n",
    "                    \\text{subject to:} \\quad & X = -\\mathbb{I}_4, \\\\\n",
    "                                       \\quad & X \\in \\text{Pos}(\\mathcal{X}).\n",
    "                \\end{aligned}\n",
    "            \\end{equation*}\n",
    "$$"
   ]
  },
  {
   "cell_type": "code",
   "execution_count": 41,
   "metadata": {},
   "outputs": [
    {
     "data": {
      "text/plain": [
       "-inf"
      ]
     },
     "execution_count": 41,
     "metadata": {},
     "output_type": "execute_result"
    }
   ],
   "source": [
    "import cvxpy\n",
    "import numpy as np\n",
    "\n",
    "x_var = cvxpy.Variable((4, 4))\n",
    "\n",
    "constraints = []\n",
    "objective = cvxpy.Maximize(cvxpy.trace(x_var.H @ np.identity(4)))\n",
    "constraints.append(x_var == -np.identity(4))\n",
    "constraints.append(x_var >> 0)\n",
    "\n",
    "problem = cvxpy.Problem(objective, constraints)\n",
    "val = problem.solve()\n",
    "\n",
    "val"
   ]
  },
  {
   "cell_type": "markdown",
   "metadata": {},
   "source": [
    "# Applications of SDPs to Quantum Information\n",
    "\n",
    "## Computing the fidelity function"
   ]
  },
  {
   "cell_type": "markdown",
   "metadata": {},
   "source": [
    "**Problem**: Calculate the fidelity of two quantum states $\\rho$ and $\\sigma$ defined as \n",
    "\n",
    "$$\n",
    "F(\\rho, \\sigma) = ||\\sqrt{\\rho}\\sqrt{\\sigma}||_1.\n",
    "$$\n",
    "\n",
    "where $|| \\cdot ||_1$ is defined as the trace norm.\n",
    "\n",
    "For the sake of not diving into extraneous details we can assume the following things to make this a bit simpler:\n",
    "\n",
    "- Take for granite (for the sake of expediency) that one can compute $F(\\rho, \\sigma)$ by way of a semidefinite program.\n",
    "\n",
    "- One could of course compute this quantity without making use of an SDP, but it is often useful and convenient to frame this in terms of an SDP.\n",
    "  \n",
    "- Calculating the fidelity is an interesting and important problem in the field of quantum information--it serves as a measure of how \"close\" two quantum states are to each other.\n",
    "\n",
    "For further simplicity (and to obscure any quantum conotation), the fidelity function is a function on density matrices (matrices that are positive semidefinite with trace equal to $1$).\n",
    "\n",
    "For the sake of example let's define two quantum states (density matrices) as follows:\n",
    "\n",
    "$$\n",
    "\\rho = \\frac{1}{2} \n",
    "        \\begin{pmatrix}\n",
    "            1 & 0 & 0 & 1 \\\\\n",
    "            0 & 0 & 0 & 0 \\\\\n",
    "            0 & 0 & 0 & 0 \\\\\n",
    "            1 & 0 & 0 & 1\n",
    "        \\end{pmatrix} \\quad \\text{and} \\quad\n",
    "\\sigma = \\frac{1}{2}\n",
    "        \\begin{pmatrix}\n",
    "            1 & 0 & 0 & 1 \\\\\n",
    "            0 & 0 & 0 & 0 \\\\\n",
    "            0 & 0 & 0 & 0 \\\\\n",
    "            1 & 0 & 0 & 1\n",
    "        \\end{pmatrix}\n",
    "$$\n",
    "\n",
    "As the fidelity is a measure of closeness, we should assume that this metric will indicate that these matrices are as close as possible. If the fidelity function yields a value of $1$, this indicates that $\\rho$ and $\\sigma$ are as similar as possible--that is, they are identical. Conversely, if the fidelity yields a value of $0$, the matrices $\\rho$ and $\\sigma$ are as far away in terms of closesness as possible.\n",
    "\n",
    "The fidelity function can be defined in terms of an SDP [[Kiloran12]](https://uwspace.uwaterloo.ca/handle/10012/6662) [[Watrous12]](https://arxiv.org/abs/1207.5726) whose primal problem is specified as:"
   ]
  },
  {
   "cell_type": "markdown",
   "metadata": {},
   "source": [
    "$$\n",
    "\\begin{equation*}\n",
    "    \\begin{aligned}\n",
    "        \\underline{\\text{Primal problem:}} \\quad & \\\\\n",
    "        \\text{maximize:} \\quad & \\frac{1}{2} \\text{Tr}(X) + \\frac{1}{2} \\text{Tr}(X^*) \\\\\n",
    "        \\text{subject to:} \\quad & \\begin{pmatrix}\n",
    "                                       \\rho & X \\\\\n",
    "                                       X^* & \\sigma\n",
    "                                    \\end{pmatrix} \\geq 0\n",
    "    \\end{aligned}\n",
    "\\end{equation*}\n",
    "$$"
   ]
  },
  {
   "cell_type": "markdown",
   "metadata": {},
   "source": [
    "Our goal is to be able to convert the above primal problem SDP into a problem that we can solve using `cvxpy`. As before, we need to import the `cvxpy` and `numpy` modules."
   ]
  },
  {
   "cell_type": "code",
   "execution_count": 25,
   "metadata": {},
   "outputs": [],
   "source": [
    "import cvxpy\n",
    "import numpy as np"
   ]
  },
  {
   "cell_type": "markdown",
   "metadata": {},
   "source": [
    "We should also define the states $\\rho$ and $\\sigma$ that we wish to compute the fidelity of. We can define these matrices as `numpy` objects."
   ]
  },
  {
   "cell_type": "code",
   "execution_count": 26,
   "metadata": {},
   "outputs": [],
   "source": [
    "rho = 1/2 * np.array([[1, 0, 0, 1], \n",
    "                      [0, 0, 0, 0], \n",
    "                      [0, 0, 0, 0], \n",
    "                      [1, 0, 0, 1]])\n",
    "\n",
    "sigma = 1/2 * np.array([[1, 0, 0, 1], \n",
    "                        [0, 0, 0, 0], \n",
    "                        [0, 0, 0, 0], \n",
    "                        [1, 0, 0, 1]])"
   ]
  },
  {
   "cell_type": "markdown",
   "metadata": {},
   "source": [
    "We want to now be able to define the variable to optimize over in the SDP, $X$. We want the variable $X$ to have the same number of rows and columns as both `rho` and `sigma`. We can use the built-in method `shape` of any `numpy` matrix or vector to determine how many rows and columns the object has. For instance"
   ]
  },
  {
   "cell_type": "code",
   "execution_count": 28,
   "metadata": {},
   "outputs": [
    {
     "data": {
      "text/plain": [
       "(4, 4)"
      ]
     },
     "execution_count": 28,
     "metadata": {},
     "output_type": "execute_result"
    }
   ],
   "source": [
    "rho.shape"
   ]
  },
  {
   "cell_type": "markdown",
   "metadata": {},
   "source": [
    "We can use this to define our variable $X$ like so:"
   ]
  },
  {
   "cell_type": "code",
   "execution_count": null,
   "metadata": {},
   "outputs": [],
   "source": [
    "x_var = cvxpy.Variable(rho.shape, complex=True)"
   ]
  },
  {
   "cell_type": "markdown",
   "metadata": {},
   "source": [
    "Note that for reasons that are slightly beyond the scope of this example, we want to the matrix `x_var` to possibly be complex-valued. By setting `complex=True`, we tell `cvxpy` that the variable `x_var` is not limited to only real entries."
   ]
  },
  {
   "cell_type": "markdown",
   "metadata": {},
   "source": [
    "Now we wish to specify the objective function. Since we're maximizing, we want to use the `Maximize` method of `cvxpy`. This should look fairly familiar to how we specified the objective function from before."
   ]
  },
  {
   "cell_type": "code",
   "execution_count": 32,
   "metadata": {},
   "outputs": [],
   "source": [
    "objective = cvxpy.Maximize(cvxpy.real(cvxpy.trace(1/2*x_var + 1/2*x_var.H)))"
   ]
  },
  {
   "cell_type": "markdown",
   "metadata": {},
   "source": [
    "Note that the one difference is we are wrapping the contents inside of the `Maximize` class inside of the `cvxpy.real()`--this is to ensure that the value we get back from our SDP is a real value. If you remove this, the solver will complain about the objective value not being real-valued, that is you would see an error from the solver stating that ``ValueError: The 'maximize' objective must be real valued.``.\n",
    "\n",
    "This makes sense, as the optimal value from an SDP can't be complex.\n",
    "\n",
    "Now onto specifying the constraints. In this case we have a block matrix where the diagonal block correspond to the matrices $\\rho$ and $\\sigma$, and where the off-diagonal blocks correspond to the variable $X$ and $X^*$. We can specify this constraint using the `bmat` method of `cvxpy`."
   ]
  },
  {
   "cell_type": "code",
   "execution_count": 34,
   "metadata": {},
   "outputs": [],
   "source": [
    "constraints = [cvxpy.bmat([[rho, x_var], [x_var.H, sigma]]) >> 0]"
   ]
  },
  {
   "cell_type": "markdown",
   "metadata": {},
   "source": [
    "We are creating a `cvxpy` block-matrix using the `bmat` method as defined in our constraints. Again, like before, we are enforcing that this variable is positive semidefinite by using the `>> 0` pattern.\n",
    "\n",
    "Now that we've specified both our constraints and objective function, we can create a `cvxpy` problem."
   ]
  },
  {
   "cell_type": "code",
   "execution_count": 35,
   "metadata": {},
   "outputs": [],
   "source": [
    "problem = cvxpy.Problem(objective, constraints)"
   ]
  },
  {
   "cell_type": "markdown",
   "metadata": {},
   "source": [
    "Calling the `solve` method on the `problem` object, we see that get the expected value of $1$."
   ]
  },
  {
   "cell_type": "code",
   "execution_count": 36,
   "metadata": {},
   "outputs": [
    {
     "data": {
      "text/plain": [
       "0.9999999999473121"
      ]
     },
     "execution_count": 36,
     "metadata": {},
     "output_type": "execute_result"
    }
   ],
   "source": [
    "problem.solve()"
   ]
  },
  {
   "cell_type": "markdown",
   "metadata": {},
   "source": [
    "As before, for completeness, we provide the full code that implements the fidelity SDP for reference."
   ]
  },
  {
   "cell_type": "code",
   "execution_count": 38,
   "metadata": {},
   "outputs": [
    {
     "data": {
      "text/plain": [
       "0.9999999999473121"
      ]
     },
     "execution_count": 38,
     "metadata": {},
     "output_type": "execute_result"
    }
   ],
   "source": [
    "import cvxpy\n",
    "import numpy as np\n",
    "\n",
    "rho = 1/2 * np.array([[1, 0, 0, 1], [0, 0, 0, 0], [0, 0, 0, 0], [1, 0, 0, 1]])\n",
    "sigma = 1/2 * np.array([[1, 0, 0, 1], [0, 0, 0, 0], [0, 0, 0, 0], [1, 0, 0, 1]])\n",
    "\n",
    "x_var = cvxpy.Variable(rho.shape, complex=True)\n",
    "objective = cvxpy.Maximize(cvxpy.real(cvxpy.trace(1/2*x_var + 1/2*x_var.H)))\n",
    "constraints = [cvxpy.bmat([[rho, x_var], [x_var.H, sigma]]) >> 0]\n",
    "problem = cvxpy.Problem(objective, constraints)\n",
    "\n",
    "problem.solve()"
   ]
  },
  {
   "cell_type": "markdown",
   "metadata": {},
   "source": [
    "Note that this value we obtain from the SDP is equivalent to the one we obtain from a direct calculation:"
   ]
  },
  {
   "cell_type": "code",
   "execution_count": 3,
   "metadata": {},
   "outputs": [
    {
     "data": {
      "text/plain": [
       "1.0000000000000002"
      ]
     },
     "execution_count": 3,
     "metadata": {},
     "output_type": "execute_result"
    }
   ],
   "source": [
    "import numpy as np\n",
    "\n",
    "rho = np.array([[1 / 2, 0, 0, 1 / 2], [0, 0, 0, 0], [0, 0, 0, 0], [1 / 2, 0, 0, 1 / 2]])\n",
    "sigma = np.array([[1 / 2, 0, 0, 1 / 2], [0, 0, 0, 0], [0, 0, 0, 0], [1 / 2, 0, 0, 1 / 2]])\n",
    "\n",
    "1/2 * np.linalg.norm(np.sqrt(rho) @ np.sqrt(sigma), 1)"
   ]
  },
  {
   "cell_type": "markdown",
   "metadata": {},
   "source": [
    "## The `toqito` module"
   ]
  },
  {
   "cell_type": "markdown",
   "metadata": {},
   "source": [
    "This is beyond the scope of this talk, but if you have an interest in quantum information, SDPs are a very useful tool to have in ones toolbox. The [toqito Python module]() makes use of SDPs to solve many problems that arise in this field. This is a non-exhaustive list of problems solved in`toqito` that is placed here for reference, and, to potentially spur some independent interest after this talk: \n",
    "\n",
    "- The SDP to calculate the quantum value of an XOR nonlocal game based on [arXiv:0608146](https://arxiv.org/abs/quant-ph/0608146).\n",
    "- An approach to lower bound the quantum value of a nonlocal game can be achieved via the alternating projection algorithm proposed in [arXiv:0608128](https://arxiv.org/abs/quant-ph/0608128).\n",
    "- The same lower bound technique mentioned above also holds for a more general class of nonlocal games based on [arXiv:1510.02083](https://arxiv.org/abs/1510.02083).\n",
    "- The probability with which one can optimally clone a quantum state. This SDP is used, for instance, in [arXiv:1202.4010](https://arxiv.org/abs/1202.4010).\n",
    "- The probability with which one can optimally distinguish a state from an ensemble using PPT measurements based on [arXiv:1205.1031](https://arxiv.org/abs/1205.1031).\n",
    "- The probability with which one can optimally distinguish a state from an ensemble using global measurements based on [arXiv:0206093](https://arxiv.org/abs/quant-ph/0206093).\n",
    "- The problem of state exclusion which is closely tied to the PBR theorem based on [arXiv:1111.3328]() and [arXiv:1306.4683](https://arxiv.org/abs/1306.4683).\n",
    "- Determining whether a given quantum state possesses a symmetric extension can be phrased as an SDP [arXiv:0812.3607](https://arxiv.org/pdf/0812.3607.pdf).\n",
    "- The output of the fidelity function may be phrased as the optimal value of an SDP based on [arXiv:0901.4709](https://arxiv.org/abs/0901.4709).\n",
    "- The QIP(2) protocol can be phrased as an SDP, specifically with respect to [arXiv:1104.1140](https://arxiv.org/abs/1104.1140)\n",
    "\n",
    "Furthermore, if you want to see more examples of how to numerically solve SDPs in Python, consulting the above list may be useful. Feel free to talk to me after this talk if you'd be interested in contributing to the project!"
   ]
  },
  {
   "cell_type": "markdown",
   "metadata": {},
   "source": [
    "# References"
   ]
  },
  {
   "cell_type": "markdown",
   "metadata": {},
   "source": [
    "[[Kiloran12]](https://uwspace.uwaterloo.ca/handle/10012/6662): Killoran, Nathan. \"Entanglement quantification and quantum benchmarking of optical communication devices.\" (2012).\n",
    "\n",
    "[[Watrous12]](https://arxiv.org/abs/1207.5726): Watrous, John. \"Simpler semidefinite programs for completely bounded norms.\" arXiv preprint arXiv:1207.5726 (2012).\n",
    "\n",
    "[[CVX]](http://cvxr.com/cvx/): Grant, Michael, Stephen Boyd, and Yinyu Ye. \"CVX: Matlab software for disciplined convex programming.\" (2008).\n",
    "\n",
    "[[cvxpy]](https://www.cvxpy.org/): Diamond, Steven, and Stephen Boyd. \"CVXPY: A Python-embedded modeling language for convex optimization.\" The Journal of Machine Learning Research 17.1 (2016): 2909-2913.\n",
    "\n",
    "[[toqito]](https://github.com/vprusso/toqito): Russo, Vincent \"toqito: A {P}ython toolkit for quantum information.\" (2021)."
   ]
  }
 ],
 "metadata": {
  "kernelspec": {
   "display_name": "Python 3",
   "language": "python",
   "name": "python3"
  },
  "language_info": {
   "codemirror_mode": {
    "name": "ipython",
    "version": 3
   },
   "file_extension": ".py",
   "mimetype": "text/x-python",
   "name": "python",
   "nbconvert_exporter": "python",
   "pygments_lexer": "ipython3",
   "version": "3.8.4"
  }
 },
 "nbformat": 4,
 "nbformat_minor": 2
}
